{
 "cells": [
  {
   "cell_type": "markdown",
   "id": "625ea3fd-f109-4e8c-8cc1-a3c0b0bf7b7d",
   "metadata": {},
   "source": [
    "# Data Science Tools and Ecosystem"
   ]
  },
  {
   "cell_type": "markdown",
   "id": "d44f28b6-a81c-46c2-9dd5-c7366cbee689",
   "metadata": {},
   "source": [
    "In this notebook, Data Science Tools and Ecosystem are summarized."
   ]
  },
  {
   "cell_type": "markdown",
   "id": "f73899f8-0dbf-4502-b6fe-22d9a313d482",
   "metadata": {},
   "source": [
    "**Objectives:**\n",
    "\n",
    "- Popular data science languages\n",
    "- popular data science libraries\n",
    "- popular data science tools\n",
    "- Arithmetic expressions"
   ]
  },
  {
   "cell_type": "markdown",
   "id": "3e6f210f-5702-4467-b059-9ac0544e3d2e",
   "metadata": {},
   "source": [
    "Some of the popular languages that Data Scientists use are:\n",
    "\n",
    "1. Python\n",
    "2. R\n",
    "3. SQL\n"
   ]
  },
  {
   "cell_type": "markdown",
   "id": "dcbf0c99-5cb9-413e-8e43-b2200827c15a",
   "metadata": {},
   "source": [
    "Some of the commonly used libraries used by Data Scientists include:\n",
    "\n",
    "1. Pandas\n",
    "2. NumPy\n",
    "3. SciPy"
   ]
  },
  {
   "cell_type": "markdown",
   "id": "d6840e94-f7e6-4ccc-a0c8-b57c41014d33",
   "metadata": {},
   "source": [
    "Data Science Tools:\n",
    "\n",
    "|Data Science Tools|\n",
    "|------------------|\n",
    "|Apache Spark      |\n",
    "|Tensorflow        |\n",
    "|DeepLearning4     |"
   ]
  },
  {
   "cell_type": "markdown",
   "id": "b2c23a97-1182-4ca8-ab58-f23ed493e956",
   "metadata": {},
   "source": [
    "### Below are a few examples of evaluating arithmetic expressions in Python"
   ]
  },
  {
   "cell_type": "code",
   "execution_count": 4,
   "id": "769c6e16-49db-474c-bbfa-378bbd64a1ef",
   "metadata": {},
   "outputs": [
    {
     "data": {
      "text/plain": [
       "17"
      ]
     },
     "execution_count": 4,
     "metadata": {},
     "output_type": "execute_result"
    }
   ],
   "source": [
    "#This a simple arithmetic expression to mutiply then add integers\n",
    "(3*4)+5"
   ]
  },
  {
   "cell_type": "code",
   "execution_count": 5,
   "id": "db498fa1-5be3-4157-b49b-0a2d6164ca4d",
   "metadata": {},
   "outputs": [
    {
     "data": {
      "text/plain": [
       "3.3333333333333335"
      ]
     },
     "execution_count": 5,
     "metadata": {},
     "output_type": "execute_result"
    }
   ],
   "source": [
    "#his will convert 200 minutes to hours by diving by 60\n",
    "200/60"
   ]
  },
  {
   "cell_type": "markdown",
   "id": "42337baf-fa54-4675-9bf9-17e738fb3119",
   "metadata": {},
   "source": [
    "## Author:\n",
    "\n",
    "Ayush Goel"
   ]
  },
  {
   "cell_type": "code",
   "execution_count": null,
   "id": "42f9b24f-5f20-474f-a68a-02b52826c280",
   "metadata": {},
   "outputs": [],
   "source": []
  }
 ],
 "metadata": {
  "kernelspec": {
   "display_name": "Python [conda env:r_env]",
   "language": "python",
   "name": "conda-env-r_env-py"
  },
  "language_info": {
   "codemirror_mode": {
    "name": "ipython",
    "version": 3
   },
   "file_extension": ".py",
   "mimetype": "text/x-python",
   "name": "python",
   "nbconvert_exporter": "python",
   "pygments_lexer": "ipython3",
   "version": "3.13.5"
  }
 },
 "nbformat": 4,
 "nbformat_minor": 5
}
